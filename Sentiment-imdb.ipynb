{
 "cells": [
  {
   "cell_type": "markdown",
   "metadata": {},
   "source": [
    "## ***Sentiment analysis of IMDb reviews using a self-defined LSTM***"
   ]
  },
  {
   "cell_type": "markdown",
   "metadata": {},
   "source": [
    "#### Long Short-Term Memory (LSTM) networks are a type of Recurrent Neural Network (RNN) that are particularly well-suited for sequence prediction problems, such as sentiment analysis on the IMDB dataset. Here's how LSTMs solve the problem of sentiment analysis:"
   ]
  },
  {
   "cell_type": "markdown",
   "metadata": {},
   "source": [
    "**Problem Representation**\n",
    "1. Data Representation:\n",
    "\n",
    "* Input Data: The IMDB dataset consists of movie reviews, which are sequences of words. These reviews are encoded as sequences of integers, where each integer represents a word index.\n",
    "* Labels: Each review is labeled as either positive (1) or negative (0).\n",
    "\n",
    "2. Preprocessing:\n",
    "\n",
    "* Vocabulary Limitation: The dataset is limited to the top max_vocab_size most frequent words to reduce the complexity of the model and save running time.\n",
    "* Padding/Truncating: Reviews are padded or truncated to a fixed length (review_length) to ensure uniform input size for the LSTM model."
   ]
  },
  {
   "cell_type": "markdown",
   "metadata": {},
   "source": [
    "**Main Steps in Algorithm Implementation**\n",
    "1) Loading and Preprocessing Data:\n",
    "\n",
    "* Loading Data: The IMDB dataset is loaded with a constraint on the vocabulary size.\n",
    "* Padding/Truncating: Reviews are padded or truncated to a fixed length to ensure uniform input size.\n",
    "\n",
    "2) Building the LSTM Model:\n",
    "\n",
    "* Embedding Layer: Converts word indices into dense vectors of fixed size (word_embedding_dims). This layer helps in capturing the semantic meaning of words.\n",
    "* LSTM Layer: Processes the sequence of word vectors. LSTMs are capable of learning long-term dependencies, which is crucial for understanding the context in a review.\n",
    "* Dropout Layers: Added to prevent overfitting by randomly dropping units during training.\n",
    "* Dense Layer: A fully connected layer with a sigmoid activation function to output the final sentiment prediction (positive or negative).\n",
    "\n",
    "3) Compiling the Model:\n",
    "\n",
    "* Loss Function: Binary cross-entropy is used as the loss function since this is a binary classification problem.\n",
    "* Optimizer: Adam optimizer is used for training the model.\n",
    "* Metrics: Accuracy is used as the evaluation metric.\n",
    "\n",
    "4) Training the Model:\n",
    "\n",
    "* The model is trained on the training dataset, where it learns to map sequences of word indices to sentiment labels.\n",
    "* Training Parameters: The number of epochs, batch size, learning rate and validation split are set to train the model effectively.\n",
    "\n",
    "5) Evaluating the Model:\n",
    "\n",
    "* The model's performance is evaluated on the testing dataset using metrics like accuracy and classification report.\n",
    "* The accuracy and loss curves are plotted to visualize the model's performance during training."
   ]
  },
  {
   "cell_type": "markdown",
   "metadata": {},
   "source": [
    "**Importing all required dependencies**"
   ]
  },
  {
   "cell_type": "code",
   "execution_count": 52,
   "metadata": {},
   "outputs": [],
   "source": [
    "import tensorflow as tf #import TensorFlow library\n",
    "import numpy as np #for effeicient numerical operations\n",
    "import matplotlib.pyplot as plt #to plot graphs and charts\n",
    "from keras.preprocessing import sequence  #to pad/truncate sequences\n",
    "from keras.datasets import imdb #import IMDB dataset\n",
    "from keras.models import Sequential #import Sequential model\n",
    "from keras.layers import Dense, Embedding, LSTM, Dropout, Bidirectional, BatchNormalization #import Dense, Embedding, LSTM, Bidirectional, Batch normalisation & Dropout layers\n",
    "from keras.optimizers import Adam #import Adam optimizer\n",
    "from sklearn.metrics import classification_report #import classification_report to evaluate the model"
   ]
  },
  {
   "cell_type": "markdown",
   "metadata": {},
   "source": [
    "**This function loads the IMDB movie review dataset while limiting the vocabulary size to a specified maximum 'max_vocab_size'. This parameter determines the maximum number of most frequent words to include in the dataset, effectively filtering out less common words.**\n",
    "\n",
    "**This returns a tuple containing the training and testing datasets, where each dataset is itself a tuple of numpy arrays: (x_train, y_train) for the training data and (x_test, y_test) for the testing data.**"
   ]
  },
  {
   "cell_type": "code",
   "execution_count": 9,
   "metadata": {},
   "outputs": [],
   "source": [
    "def imdb_dataset(max_vocab_size=20000):\n",
    "    \"\"\"\n",
    "    Loads the IMDB dataset with a constraint on the vocabulary size.\n",
    "\n",
    "    Args:\n",
    "        max_vocab_size (int): The maximum number of words to include in the dataset. Only the top `max_vocab_size` most frequent words will be kept.\n",
    "\n",
    "    Returns:\n",
    "        tuple: A tuple containing the training and testing datasets.\n",
    "    \"\"\"\n",
    "\n",
    "    print('Loading IMDB dataset...')\n",
    "    return imdb.load_data(num_words=max_vocab_size) #load IMDB dataset by constraining reviews to top 20,000 words"
   ]
  },
  {
   "cell_type": "markdown",
   "metadata": {},
   "source": [
    "***Reviews in this dataset have been encoded as sequences of integers. To covnert these back into comprehensible form, the imdb module provides the function 'get_word_index()'***"
   ]
  },
  {
   "cell_type": "markdown",
   "metadata": {},
   "source": [
    "**The function below modifies the word index dictionary, to include special characters for padding, start of sequence, unknown words, and unused token.**\n",
    "\n",
    "* These special tokens are introduced during preprocessing to help the model handle padding, unknown words, and the start of a sequence.\n",
    "\n",
    "1) PAD : Used for padding short sequences to ensure uniform length across all sequences.\n",
    "2) START : Used to indicate the start of a sequence.\n",
    "3) UNKNOWN : Used to represent words that are not in the vocabulary.\n",
    "4) UNUSED : A placeholder for potential future use."
   ]
  },
  {
   "cell_type": "code",
   "execution_count": 10,
   "metadata": {},
   "outputs": [],
   "source": [
    "def mod_word_idx_dict():\n",
    "    \"\"\"\n",
    "    Modifies the word index dictionary from the IMDb dataset to include special tokens.\n",
    "    The function performs the following steps:\n",
    "    1. Retrieves the original word index dictionary from the IMDb dataset.\n",
    "    2. Adjusts the dictionary to include special tokens by incrementing all existing values by the number of special tokens minus one.\n",
    "    3. Adds special tokens ('<PAD>', '<START>', '<UNKNOWN>', '<UNUSED>') to the dictionary with their respective indices.\n",
    "\n",
    "    Returns:\n",
    "        dict: A modified word index dictionary with special tokens included.\n",
    "    \"\"\"\n",
    "\n",
    "    word_index = imdb.get_word_index() #get word index - a dictionary mapping words to an integer index\n",
    "\n",
    "    #adjusting the dictionary to include special tokens/characters\n",
    "    special_tokens = ['<PAD>', '<START>', '<UNKNOWN>', '<UNUSED>'] #special tokens\n",
    "    num_special_tokens = len(special_tokens) #number of special tokens\n",
    "    \n",
    "    #the original word_index dictionarys's values start from 1, but the modified one's value is set to start from 0.\n",
    "    #therefore, we need to increment all values by num_special_tokens-1\n",
    "\n",
    "    word_index = {key:value+(num_special_tokens-1) for key,value in word_index.items()} #increment all values by num_special_tokens-1\n",
    "\n",
    "    for i in range(num_special_tokens):\n",
    "        word_index[special_tokens[i]] = i #add special tokens to the dictionary\n",
    "\n",
    "    return word_index"
   ]
  },
  {
   "cell_type": "markdown",
   "metadata": {},
   "source": [
    "\n",
    "**The function defined below takes the integer-encoded reviews and converts them back into the original words.**"
   ]
  },
  {
   "cell_type": "code",
   "execution_count": 11,
   "metadata": {},
   "outputs": [],
   "source": [
    "def decode_review(review, mod_word_index):\n",
    "    \"\"\"\n",
    "    Decodes a review represented as a list of integers into a human-readable string.\n",
    "\n",
    "    Args:\n",
    "        review (list of int): The review to decode, where each integer represents a word index.\n",
    "        mod_word_index (dict): A dictionary mapping words and special tokens to their corresponding integer indices.\n",
    "        \n",
    "    Returns:\n",
    "        str: The decoded review as a string, with words separated by spaces. If an integer index\n",
    "             is not found in the word_index, it is replaced by '?'.\n",
    "    \"\"\"\n",
    "\n",
    "    #create a dictionary mapping integer indices to words\n",
    "    reverse_word_index = {value:key for key,value in mod_word_index.items()}\n",
    "    #IMP_NOTE: review is not a text! It is a list of integers\n",
    "    return ' '.join([reverse_word_index.get(i,'?') for i in review]) #convert list of integers to text seperated by space, '?' is a fallback if an index is not found"
   ]
  },
  {
   "cell_type": "markdown",
   "metadata": {},
   "source": [
    "**The functions defined below are data exploration functions that help us understand the dataset better.**"
   ]
  },
  {
   "cell_type": "markdown",
   "metadata": {},
   "source": [
    "***plot_review_len()***\n",
    "\n",
    "* Plots a histogram of the lengths of the reviews in the dataset. This helps us understand the distribution of review lengths and decide on the maximum sequence length to use for padding."
   ]
  },
  {
   "cell_type": "code",
   "execution_count": 12,
   "metadata": {},
   "outputs": [],
   "source": [
    "def plot_review_len(x_data): #x_train or x_test\n",
    "    \"\"\"\n",
    "    Plots a histogram of the lengths of reviews in the given dataset.\n",
    "\n",
    "    Args:\n",
    "        x_data (numpy array): A numpy array of integers, where each row represents a review consisting of a sequence of word indices.\n",
    "    \"\"\"\n",
    "\n",
    "    #get the lengths of all reviews\n",
    "    reviews_lengths = [len(review) for review in x_data]\n",
    "\n",
    "    #plot histogram of review lengths\n",
    "    plt.figure(figsize=(10, 6))\n",
    "    plt.hist(x=reviews_lengths, bins=range(min(reviews_lengths), max(reviews_lengths) + 50, 50), color='blue', edgecolor='black')\n",
    "    plt.title('Histogram: Review Lengths')\n",
    "    plt.xlabel('Review Length')\n",
    "    plt.ylabel('Frequency')\n",
    "    plt.show()"
   ]
  },
  {
   "cell_type": "markdown",
   "metadata": {},
   "source": [
    "***stats_reviews()***\n",
    "\n",
    "* Prints the following statistics about the dataset:\n",
    "    1) Number of reviews\n",
    "    2) Average review length\n",
    "    3) Maximum review length\n",
    "    4) Minimum review length\n",
    "    5) Standard deviation of review lengths"
   ]
  },
  {
   "cell_type": "code",
   "execution_count": 13,
   "metadata": {},
   "outputs": [],
   "source": [
    "def stats_reviews(x_train, x_test):\n",
    "    \"\"\"\n",
    "    Calculate and print statistics for review lengths in training and testing datasets.\n",
    "\n",
    "    Args:\n",
    "        x_train (numpy array): Array of reviews in the training dataset.\n",
    "        x_test (numpy array): Array of reviews in the testing dataset.\n",
    "\n",
    "    Statistics Calculated:\n",
    "        1. Number of reviews in training and testing datasets.\n",
    "        2. Average review length in training and testing datasets.\n",
    "        3. Maximum review length in training and testing datasets.\n",
    "        4. Minimum review length in training and testing datasets.\n",
    "        5. Standard deviation of review lengths in training and testing datasets.\n",
    "\n",
    "    Prints:\n",
    "        - Number of reviews in training and testing datasets.\n",
    "        - Average review length in training and testing datasets.\n",
    "        - Maximum review length in training and testing datasets.\n",
    "        - Minimum review length in training and testing datasets.\n",
    "        - Standard deviation of review lengths in training and testing datasets.\n",
    "    \"\"\"\n",
    "    # 1)number of reviews in training and testing datasets\n",
    "    num_train_reviews = len(x_train) #number of reviews in training dataset\n",
    "    num_test_reviews = len(x_test) #number of reviews in testing dataset\n",
    "\n",
    "    train_rev_len_list = [len(review) for review in x_train] #list of lengths of reviews in training dataset\n",
    "    test_rev_len_list = [len(review) for review in x_test] #list of lengths of reviews in testing dataset\n",
    "\n",
    "    # 2)average review length in training and testing datasets\n",
    "    avg_train_rev_len = np.mean(train_rev_len_list) #average review length in training dataset\n",
    "    avg_test_rev_len = np.mean([test_rev_len_list]) #average review length in testing dataset\n",
    "\n",
    "    # 3)maximum review length in training and testing datasets\n",
    "    max_train_rev_len = np.amax(train_rev_len_list) #maximum review length in training dataset\n",
    "    max_test_rev_len = np.amax(test_rev_len_list) #maximum review length in testing dataset\n",
    "\n",
    "    # 4)minimum review length in training and testing datasets\n",
    "    min_train_rev_len = np.amin(train_rev_len_list) #minimum review length in training dataset       \n",
    "    min_test_rev_len = np.amin(test_rev_len_list) #minimum review length in testing dataset\n",
    "\n",
    "    # 5)standard deviation of review lengths in training and testing datasets\n",
    "    std_train_rev_len = np.std(train_rev_len_list) #standard deviation of review lengths in training dataset    \n",
    "    std_test_rev_len = np.std(test_rev_len_list) #standard deviation of review lengths in testing dataset\n",
    "\n",
    "    print(\"\\nLoading Review Statistics...\")\n",
    "    print(\"\\nTraining Dataset:\")\n",
    "    print(\"Number of reviews in training dataset:\", num_train_reviews)\n",
    "    print(\"Average review length in training dataset:\", avg_train_rev_len)\n",
    "    print(\"Maximum review length in training dataset:\", max_train_rev_len)\n",
    "    print(\"Minimum review length in training dataset:\", min_train_rev_len)\n",
    "    print(\"Standard deviation of review lengths in training dataset:\", std_train_rev_len)\n",
    "\n",
    "    print(\"\\nTesting Dataset:\")\n",
    "    print(\"Number of reviews in testing dataset:\", num_test_reviews)\n",
    "    print(\"Average review length in testing dataset:\", avg_test_rev_len)\n",
    "    print(\"Maximum review length in testing dataset:\", max_test_rev_len)\n",
    "    print(\"Minimum review length in testing dataset:\", min_test_rev_len)\n",
    "    print(\"Standard deviation of review lengths in testing dataset:\", std_test_rev_len)"
   ]
  },
  {
   "cell_type": "markdown",
   "metadata": {},
   "source": [
    "***rand_review()***\n",
    "* Prints out a review in its native integer-encoded form and its corresponding original human readble form."
   ]
  },
  {
   "cell_type": "code",
   "execution_count": 14,
   "metadata": {},
   "outputs": [],
   "source": [
    "def rand_review(x_data, y_data, mod_word_index):\n",
    "    \"\"\"\n",
    "    Prints a random review and its sentiment from the provided datasets.\n",
    "\n",
    "    Args:\n",
    "        x_data (numpy array): Numpy array of integer-encoded reviews.\n",
    "        y_data (numpy array): Numpy array of sentiment labels corresponding to the reviews.\n",
    "        mod_word_index (dict): A dictionary mapping words and special tokens to their corresponding integer indices.\n",
    "\n",
    "    Prints:\n",
    "        - Integer list representation of a randomly selected review.\n",
    "        - Sentiment label of the selected review.\n",
    "        - Decoded text of the selected review.\n",
    "        - Sentiment label name of the selected review.\n",
    "    \"\"\"\n",
    "    class_label_names = ['Negative', 'Positive'] #class label names\n",
    "    x_rand_int = np.random.randint(0, len(x_data)) #generate a random integer between 0 and the number of elements in x_data or y_data\n",
    "\n",
    "    print(\"\\n----Integer list representation----\") #print the integer-encoded list representation of the review\n",
    "    #! side note: typecasting to string is necessary because the list of integers is not a string and cannot be concatenated with a string\n",
    "    print(\"\\tReview text: \" + str(x_data[x_rand_int]))\n",
    "    print(\"\\tReview sentiment: \" + str(y_data[x_rand_int]))\n",
    "\n",
    "    print(\"\\n----Decoded review----\") #print the decoded review\n",
    "    print(\"\\tReview text: \" + decode_review(x_data[x_rand_int], mod_word_index))\n",
    "    print(\"\\tReview sentiment: \" + class_label_names[y_data[x_rand_int]])"
   ]
  },
  {
   "cell_type": "markdown",
   "metadata": {},
   "source": [
    "**The function below perform data preprocessing tasks.**\n",
    "* The function 'preprocess_data()' preprocesses the data by performing the following tasks:\n",
    "    1) Truncate reviews longer than 'max_len' words.\n",
    "    2) Pad reviews shorter than 'max_len' words.\n",
    "\n",
    "* These operations make sure that all reviews are of the same length, which is required by the LSTM model."
   ]
  },
  {
   "cell_type": "code",
   "execution_count": 15,
   "metadata": {},
   "outputs": [],
   "source": [
    "def preprocess_data(x_train, x_test, review_length=500):\n",
    "    \"\"\"\n",
    "    Preprocesses the training and testing datasets by padding or truncating reviews to a fixed length.\n",
    "\n",
    "    Args:\n",
    "        x_train (numpy array): The training dataset containing reviews.\n",
    "        x_test (numpy array): The testing dataset containing reviews.\n",
    "        review_length (int, optional): The fixed length to which reviews will be padded or truncated. Default is 500.\n",
    "\n",
    "    Returns:\n",
    "        tuple: A tuple containing the preprocessed training and testing datasets.\n",
    "    \"\"\"\n",
    "    #padding/truncating reviews to a fixed length\n",
    "    #padding - happens when the review length is less than the fixed length\n",
    "    #truncating - happens when the review length is greater than the fixed length\n",
    "    x_train = sequence.pad_sequences(x_train, maxlen=review_length, truncating='pre', padding='pre') #pad/truncate reviews from the beginning in training dataset\n",
    "    x_test = sequence.pad_sequences(x_test, maxlen=review_length, truncating='pre', padding='pre') #pad/truncate reviews from the beginning in testing dataset\n",
    "\n",
    "    #review if the padding/truncating is done correctly\n",
    "    print(\"\\nReview after padding/truncating:\")\n",
    "    print(\"Training dataset: \", x_train.shape) #print the shape of the training dataset; should be (25000, 500)\n",
    "    print(\"Testing dataset: \", x_test.shape) #print the shape of the testing dataset; should be (25000, 500)\n",
    "\n",
    "    return x_train, x_test"
   ]
  },
  {
   "cell_type": "markdown",
   "metadata": {},
   "source": [
    "**The function below defines the LSTM model.**\n",
    "\n",
    "* The model consists of an embedding layer, 2 Dropout layers, an LSTM layer, and a dense layer with a sigmoid activation function. \n",
    "* The model is compiled with the binary cross-entropy loss function and the Adam optimizer.\n",
    "* Layer information:\n",
    "    1) Embedding layer: Embeddings are spatial mappings of words in a continuous vector space. Semantically similar words are closer in the vector space.This spatial mapping is learned during the training process.\n",
    "    2) Dropout layers: These layers help prevent overfitting by randomly dropping a set of neurons from input and hidden layers during training.\n",
    "    3) LSTM layer: This layer processes the sequence of word vectors and returns the output at each time step.\n",
    "        * A bidirectional LSTM processes the input sequence in both forward and backward directions, capturing dependencies in both directions.\n",
    "    4) Batch Normalization: This layer helps stabilize and regularize the training process.\n",
    "    5) Dense layer: This layer produces the final output of the model.\n",
    "\n",
    "    "
   ]
  },
  {
   "cell_type": "code",
   "execution_count": 131,
   "metadata": {},
   "outputs": [],
   "source": [
    "def build_neural_net(word_embedding_dims=50, max_vocab_size=20000, review_length=500, learning_rate=0.0001):\n",
    "    \"\"\"\n",
    "    Builds and compiles a neural network model for text classification using Keras.\n",
    "\n",
    "    Args:\n",
    "        word_embedding_dims (int): The dimension of the word embeddings. Default is 50.\n",
    "        max_vocab_size (int): The maximum size of the vocabulary. Default is 20000.\n",
    "        review_length (int): The length of the input sequences (reviews). Default is 500.\n",
    "        learning_rate (float): The learning rate for the Adam optimizer. Default is 0.001.\n",
    "\n",
    "    Returns:\n",
    "        keras.models.Sequential: A compiled Keras Sequential model.\n",
    "    \"\"\"\n",
    "    model = Sequential() #create a Sequential model\n",
    "\n",
    "    #add an embedding layer\n",
    "    model.add(\n",
    "        Embedding(\n",
    "            input_dim=max_vocab_size, #input dimension\n",
    "            output_dim=word_embedding_dims, #output dimension\n",
    "            input_length=review_length #input length\n",
    "        )\n",
    "    )\n",
    "\n",
    "    #add a Dropout layer\n",
    "    model.add(\n",
    "        Dropout(rate=0.4) #dropout rate ((rate*100)% of the input units are randomly dropped)\n",
    "    )\n",
    "\n",
    "    #add a Bidirectional LSTM layer\n",
    "    model.add(\n",
    "        Bidirectional(LSTM(units=16)) #number of units\n",
    "    )\n",
    "\n",
    "    #add a BatchNormalization layer\n",
    "    model.add(\n",
    "        BatchNormalization() \n",
    "    )\n",
    "\n",
    "    #add a 2nd Dropout layer\n",
    "    model.add(\n",
    "        Dropout(rate=0.5) #dropout rate\n",
    "    )\n",
    "\n",
    "    #add a Dense layer\n",
    "    model.add(\n",
    "        Dense(\n",
    "            units=1, #number of units\n",
    "            activation='sigmoid' #activation function\n",
    "        ) \n",
    "    )\n",
    "\n",
    "    #compile the model\n",
    "    model.compile(\n",
    "        loss='binary_crossentropy', #loss function\n",
    "        optimizer=Adam(learning_rate), #optimizer\n",
    "        metrics=['accuracy'] #evaluation metrics\n",
    "    )\n",
    "\n",
    "    #force the model to build by providing an input shape \n",
    "    model.build(input_shape=(None, review_length))\n",
    "\n",
    "    #display the model summary\n",
    "    model.summary() \n",
    "\n",
    "    return model"
   ]
  },
  {
   "cell_type": "markdown",
   "metadata": {},
   "source": [
    "**This function trains the model**"
   ]
  },
  {
   "cell_type": "markdown",
   "metadata": {},
   "source": [
    "#### While training, I got stuck with the overfitting issue even after implementing the dropout layers. I tried to tune the hyperparameters like learning rate, batch size, and the number of epochs, but the model was still overfitting. \n",
    "\n",
    "#### To overcome this issue, I decided to implement a learning rate scheduler that reduces the learning rate when the validation loss does not improve for a certain number of epochs. This helps the model converge better and avoid overfitting.\n",
    "\n",
    "***The callback monitors the validation loss (in my case), and if no improvement is seen for a \"patience\" number of epochs, the learning rate is reduced by the factor defined.***\n",
    "\n",
    "Reference - https://keras.io/api/callbacks/reduce_lr_on_plateau/"
   ]
  },
  {
   "cell_type": "code",
   "execution_count": 132,
   "metadata": {},
   "outputs": [],
   "source": [
    "def lr_scheduler(monitored_metric='val_loss', factor=0.5, patience=3, min_lr=0.0000001):\n",
    "    \"\"\"\n",
    "    Creates a learning rate scheduler callback that reduces the learning rate when a monitored metric has stopped improving.\n",
    "\n",
    "    Args:\n",
    "        monitored_metric (str): The metric to monitor. Default is 'val_loss'.\n",
    "        factor (float): The factor by which the learning rate will be reduced. new_lr = lr * factor. Default is 0.5.\n",
    "        patience (int): Number of epochs with no improvement after which learning rate will be reduced. Default is 2.\n",
    "        min_lr (float): The minimum learning rate. Default is 0.000001.\n",
    "\n",
    "    Returns:\n",
    "        tf.keras.callbacks.ReduceLROnPlateau: A callback to reduce learning rate when the monitored metric has stopped improving.\n",
    "    \"\"\"\n",
    "    \n",
    "    #add a callback to reduce learning rate when the validation loss has stopped improving\n",
    "    reduce_lr = tf.keras.callbacks.ReduceLROnPlateau(\n",
    "        monitor = monitored_metric, #the metric to keep an eye on\n",
    "        factor = factor, #fraction by which learning rate is reduced (new_lr = lr * factor)\n",
    "        patience = patience, #number of epochs with no improvement after which learning rate will be reduced\n",
    "        min_lr = min_lr, #minimum learning rate\n",
    "        verbose = 1\n",
    "    )\n",
    "    \n",
    "    return reduce_lr"
   ]
  },
  {
   "cell_type": "code",
   "execution_count": 133,
   "metadata": {},
   "outputs": [],
   "source": [
    "def train_neural_net(model, x_train, y_train, lr_scheduler):\n",
    "    \"\"\"\n",
    "    Trains a neural network model using the provided training data and labels.\n",
    "    \n",
    "    Args:\n",
    "        model (keras.models.Sequential): The neural network model to be trained.\n",
    "        x_train (numpy array): Training data.\n",
    "        y_train (numpy array): Training labels.\n",
    "        \n",
    "    Returns:\n",
    "        history: A History object. Its History.history attribute is a record of training loss values \n",
    "                 and metrics values at successive epochs, as well as validation loss values and \n",
    "                 validation metrics values.\n",
    "    \"\"\"\n",
    "    \n",
    "    #train the model on x_train and y_train\n",
    "    history = model.fit(\n",
    "        x_train, #training data\n",
    "        y_train, #training labels\n",
    "        batch_size=512, #batch size\n",
    "        epochs=50, #number of epochs\n",
    "        validation_split=0.2, #this fraction will be kept apart for validation at the end of each epoch\n",
    "        verbose=1, \n",
    "        callbacks=[lr_scheduler] #callback to reduce learning rate\n",
    "    )\n",
    "\n",
    "    return history"
   ]
  },
  {
   "cell_type": "markdown",
   "metadata": {},
   "source": [
    "**The function plots the training history of the model.**\n",
    "\n",
    "* The training history includes the loss and accuracy on the training and validation sets for each epoch.\n",
    "* This function helps visualize the model's performance during training and identify potential issues like overfitting or underfitting."
   ]
  },
  {
   "cell_type": "code",
   "execution_count": 134,
   "metadata": {},
   "outputs": [],
   "source": [
    "#The plotting function\n",
    "def plot_loss_acc(history):\n",
    "    \"\"\"\n",
    "    Plots the training and validation accuracy and loss over epochs.\n",
    "\n",
    "    Args:\n",
    "      history (History): A History object returned by the fit method of a Keras model. \n",
    "              It contains the training, validation accuracy and loss for each epoch.\n",
    "    \"\"\"\n",
    "    train_acc = history.history['accuracy'] #training accuracy\n",
    "    val_acc = history.history['val_accuracy'] #validation accuracy\n",
    "    train_loss = history.history['loss'] #training loss\n",
    "    val_loss = history.history['val_loss'] #validation loss\n",
    "    epochs_range = range(1, len(train_acc)+1) #range of epochs\n",
    "\n",
    "    #accuracy plot\n",
    "    plt.figure(figsize=(10,6))\n",
    "    plt.plot(epochs_range, train_acc, label='Training Accuracy')\n",
    "    plt.plot(epochs_range, val_acc, label='Validation Accuracy')\n",
    "    plt.legend(loc='lower right')\n",
    "    plt.title('Training and Validation Accuracy')\n",
    "\n",
    "    #loss plot\n",
    "    plt.figure(figsize=(10,6))\n",
    "    plt.plot(epochs_range, train_loss, label='Training Loss')\n",
    "    plt.plot(epochs_range, val_loss, label='Validation Loss')\n",
    "    plt.legend(loc='upper right')\n",
    "    plt.title('Training and Validation Loss')\n",
    "\n",
    "    plt.show()"
   ]
  },
  {
   "cell_type": "markdown",
   "metadata": {},
   "source": [
    "**This function evaluates the model on the test data and prints the classification report**\n",
    "* The classification report includes metrics like precision, recall, and F1-score for both classes (positive and negative)."
   ]
  },
  {
   "cell_type": "code",
   "execution_count": 135,
   "metadata": {},
   "outputs": [],
   "source": [
    "def gen_classification_report(model, x_test, y_test):\n",
    "    \"\"\"\n",
    "    Generates a classification report for a trained model on test data.\n",
    "\n",
    "    Args:\n",
    "        model (keras.models.Sequential): The trained neural network model.\n",
    "        x_test (numpy array): The test data.\n",
    "\n",
    "    Returns:\n",
    "        sklearn.metrics.ClassificationReport: A classification report containing precision, recall, F1-score, and support.\n",
    "    \"\"\"\n",
    "    #predict the sentiment of reviews in the test dataset\n",
    "    y_pred = model.predict(x_test)\n",
    "\n",
    "    #convert the predicted probabilities to binary values\n",
    "    y_pred = np.where(y_pred > 0.5, 1, 0)\n",
    "\n",
    "    #classification report\n",
    "    return classification_report(y_test, y_pred, target_names=['Negative', 'Positive'])"
   ]
  },
  {
   "cell_type": "markdown",
   "metadata": {},
   "source": [
    "**This function encapulates all the above functions and runs the entire pipeline.**"
   ]
  },
  {
   "cell_type": "code",
   "execution_count": 136,
   "metadata": {},
   "outputs": [],
   "source": [
    "def main():\n",
    "    #load the IMDB dataset\n",
    "    (x_train, y_train), (x_test, y_test) = imdb_dataset()\n",
    "\n",
    "    #modify the word index dictionary to include special tokens\n",
    "    mod_word_index = mod_word_idx_dict()\n",
    "\n",
    "    #plot histogram of review lengths for training dataset and testing dataset\n",
    "    plot_review_len(x_train)\n",
    "    plot_review_len(x_test)\n",
    "\n",
    "    #calculate and print statistics for review lengths in training and testing datasets\n",
    "    stats_reviews(x_train, x_test)\n",
    "\n",
    "    #print a random review and its sentiment from the provided datasets\n",
    "    rand_review(x_train, y_train, mod_word_index)\n",
    "\n",
    "    #preprocess the training and testing datasets\n",
    "    x_train, x_test = preprocess_data(x_train, x_test)\n",
    "\n",
    "    #build and compile a neural network model for text classification\n",
    "    #learning_rate = 0.0005\n",
    "    model = build_neural_net()\n",
    "\n",
    "    #train the neural network model\n",
    "    print(\"\\nTraining the neural network model...\")\n",
    "    history = train_neural_net(model, x_train, y_train, lr_scheduler())\n",
    "\n",
    "    #plot the training and validation accuracy and loss over epochs\n",
    "    plot_loss_acc(history)\n",
    "\n",
    "    #generate a classification report for the trained model on test data\n",
    "    report = gen_classification_report(model, x_test, y_test)\n",
    "    print(\"\\nClassification Report:\")\n",
    "    print(report)"
   ]
  },
  {
   "cell_type": "code",
   "execution_count": 137,
   "metadata": {},
   "outputs": [
    {
     "name": "stdout",
     "output_type": "stream",
     "text": [
      "Loading IMDB dataset...\n"
     ]
    },
    {
     "data": {
      "image/png": "[encoded data removed]",
      "text/plain": [
       "<Figure size 1000x600 with 1 Axes>"
      ]
     },
     "metadata": {},
     "output_type": "display_data"
    },
    {
     "data": {
      "image/png": "[encoded data removed]",
      "text/plain": [
       "<Figure size 1000x600 with 1 Axes>"
      ]
     },
     "metadata": {},
     "output_type": "display_data"
    },
    {
     "name": "stdout",
     "output_type": "stream",
     "text": [
      "\n",
      "Loading Review Statistics...\n",
      "\n",
      "Training Dataset:\n",
      "Number of reviews in training dataset: 25000\n",
      "Average review length in training dataset: 238.71364\n",
      "Maximum review length in training dataset: 2494\n",
      "Minimum review length in training dataset: 11\n",
      "Standard deviation of review lengths in training dataset: 176.49367364852034\n",
      "\n",
      "Testing Dataset:\n",
      "Number of reviews in testing dataset: 25000\n",
      "Average review length in testing dataset: 230.8042\n",
      "Maximum review length in testing dataset: 2315\n",
      "Minimum review length in testing dataset: 7\n",
      "Standard deviation of review lengths in testing dataset: 169.16108731726692\n",
      "\n",
      "----Integer list representation----\n",
      "\tReview text: [1, 14, 286, 163, 11, 4506, 45, 24, 163, 150, 10, 10, 1025, 6, 176, 7, 85, 84, 146, 24, 6397, 4, 22, 88, 12, 9, 966, 7901, 13, 3194, 510, 15, 227, 42, 247, 13, 510, 4, 2097, 12, 12218, 11, 616, 6090, 84, 146, 6397, 12, 88, 12, 9, 862, 398, 5, 917, 10, 10, 4, 64, 66, 906, 109, 9, 2, 63, 698, 84, 2476, 153, 154, 80, 10175, 1241, 237, 29, 16, 6, 1640, 19, 2, 18, 6, 196, 58, 10, 10, 798, 10, 10]\n",
      "\tReview sentiment: 0\n",
      "\n",
      "----Decoded review----\n",
      "\tReview text: <START> this wasn't funny in 1972 it's not funny now br br unlike a lot of other people i'm not bashing the film because it is incredibly sexist i quote enjoyed that bit or rather i enjoyed the reaction it generates in annoying pc people i'm bashing it because it is poorly written and acted br br the only really memorable character is <UNKNOWN> which british people 25 years old will recognise immediately since he was a favourite with <UNKNOWN> for a long time br br avoid br br\n",
      "\tReview sentiment: Negative\n",
      "\n",
      "Review after padding/truncating:\n",
      "Training dataset:  (25000, 500)\n",
      "Testing dataset:  (25000, 500)\n"
     ]
    },
    {
     "name": "stderr",
     "output_type": "stream",
     "text": [
      "c:\\Users\\HP\\AppData\\Local\\Programs\\Python\\Python312\\Lib\\site-packages\\keras\\src\\layers\\core\\embedding.py:90: UserWarning: Argument `input_length` is deprecated. Just remove it.\n",
      "  warnings.warn(\n"
     ]
    },
    {
     "data": {
      "text/html": [
       "<pre style=\"white-space:pre;overflow-x:auto;line-height:normal;font-family:Menlo,'DejaVu Sans Mono',consolas,'Courier New',monospace\"><span style=\"font-weight: bold\">Model: \"sequential_20\"</span>\n",
       "</pre>\n"
      ],
      "text/plain": [
       "\u001b[1mModel: \"sequential_20\"\u001b[0m\n"
      ]
     },
     "metadata": {},
     "output_type": "display_data"
    },
    {
     "data": {
      "text/html": [
       "<pre style=\"white-space:pre;overflow-x:auto;line-height:normal;font-family:Menlo,'DejaVu Sans Mono',consolas,'Courier New',monospace\">┏━━━━━━━━━━━━━━━━━━━━━━━━━━━━━━━━━┳━━━━━━━━━━━━━━━━━━━━━━━━┳━━━━━━━━━━━━━━━┓\n",
       "┃<span style=\"font-weight: bold\"> Layer (type)                    </span>┃<span style=\"font-weight: bold\"> Output Shape           </span>┃<span style=\"font-weight: bold\">       Param # </span>┃\n",
       "┡━━━━━━━━━━━━━━━━━━━━━━━━━━━━━━━━━╇━━━━━━━━━━━━━━━━━━━━━━━━╇━━━━━━━━━━━━━━━┩\n",
       "│ embedding_20 (<span style=\"color: #0087ff; text-decoration-color: #0087ff\">Embedding</span>)        │ (<span style=\"color: #00d7ff; text-decoration-color: #00d7ff\">None</span>, <span style=\"color: #00af00; text-decoration-color: #00af00\">500</span>, <span style=\"color: #00af00; text-decoration-color: #00af00\">50</span>)        │     <span style=\"color: #00af00; text-decoration-color: #00af00\">1,000,000</span> │\n",
       "├─────────────────────────────────┼────────────────────────┼───────────────┤\n",
       "│ dropout_40 (<span style=\"color: #0087ff; text-decoration-color: #0087ff\">Dropout</span>)            │ (<span style=\"color: #00d7ff; text-decoration-color: #00d7ff\">None</span>, <span style=\"color: #00af00; text-decoration-color: #00af00\">500</span>, <span style=\"color: #00af00; text-decoration-color: #00af00\">50</span>)        │             <span style=\"color: #00af00; text-decoration-color: #00af00\">0</span> │\n",
       "├─────────────────────────────────┼────────────────────────┼───────────────┤\n",
       "│ bidirectional_20                │ (<span style=\"color: #00d7ff; text-decoration-color: #00d7ff\">None</span>, <span style=\"color: #00af00; text-decoration-color: #00af00\">32</span>)             │         <span style=\"color: #00af00; text-decoration-color: #00af00\">8,576</span> │\n",
       "│ (<span style=\"color: #0087ff; text-decoration-color: #0087ff\">Bidirectional</span>)                 │                        │               │\n",
       "├─────────────────────────────────┼────────────────────────┼───────────────┤\n",
       "│ batch_normalization_20          │ (<span style=\"color: #00d7ff; text-decoration-color: #00d7ff\">None</span>, <span style=\"color: #00af00; text-decoration-color: #00af00\">32</span>)             │           <span style=\"color: #00af00; text-decoration-color: #00af00\">128</span> │\n",
       "│ (<span style=\"color: #0087ff; text-decoration-color: #0087ff\">BatchNormalization</span>)            │                        │               │\n",
       "├─────────────────────────────────┼────────────────────────┼───────────────┤\n",
       "│ dropout_41 (<span style=\"color: #0087ff; text-decoration-color: #0087ff\">Dropout</span>)            │ (<span style=\"color: #00d7ff; text-decoration-color: #00d7ff\">None</span>, <span style=\"color: #00af00; text-decoration-color: #00af00\">32</span>)             │             <span style=\"color: #00af00; text-decoration-color: #00af00\">0</span> │\n",
       "├─────────────────────────────────┼────────────────────────┼───────────────┤\n",
       "│ dense_20 (<span style=\"color: #0087ff; text-decoration-color: #0087ff\">Dense</span>)                │ (<span style=\"color: #00d7ff; text-decoration-color: #00d7ff\">None</span>, <span style=\"color: #00af00; text-decoration-color: #00af00\">1</span>)              │            <span style=\"color: #00af00; text-decoration-color: #00af00\">33</span> │\n",
       "└─────────────────────────────────┴────────────────────────┴───────────────┘\n",
       "</pre>\n"
      ],
      "text/plain": [
       "┏━━━━━━━━━━━━━━━━━━━━━━━━━━━━━━━━━┳━━━━━━━━━━━━━━━━━━━━━━━━┳━━━━━━━━━━━━━━━┓\n",
       "┃\u001b[1m \u001b[0m\u001b[1mLayer (type)                   \u001b[0m\u001b[1m \u001b[0m┃\u001b[1m \u001b[0m\u001b[1mOutput Shape          \u001b[0m\u001b[1m \u001b[0m┃\u001b[1m \u001b[0m\u001b[1m      Param #\u001b[0m\u001b[1m \u001b[0m┃\n",
       "┡━━━━━━━━━━━━━━━━━━━━━━━━━━━━━━━━━╇━━━━━━━━━━━━━━━━━━━━━━━━╇━━━━━━━━━━━━━━━┩\n",
       "│ embedding_20 (\u001b[38;5;33mEmbedding\u001b[0m)        │ (\u001b[38;5;45mNone\u001b[0m, \u001b[38;5;34m500\u001b[0m, \u001b[38;5;34m50\u001b[0m)        │     \u001b[38;5;34m1,000,000\u001b[0m │\n",
       "├─────────────────────────────────┼────────────────────────┼───────────────┤\n",
       "│ dropout_40 (\u001b[38;5;33mDropout\u001b[0m)            │ (\u001b[38;5;45mNone\u001b[0m, \u001b[38;5;34m500\u001b[0m, \u001b[38;5;34m50\u001b[0m)        │             \u001b[38;5;34m0\u001b[0m │\n",
       "├─────────────────────────────────┼────────────────────────┼───────────────┤\n",
       "│ bidirectional_20                │ (\u001b[38;5;45mNone\u001b[0m, \u001b[38;5;34m32\u001b[0m)             │         \u001b[38;5;34m8,576\u001b[0m │\n",
       "│ (\u001b[38;5;33mBidirectional\u001b[0m)                 │                        │               │\n",
       "├─────────────────────────────────┼────────────────────────┼───────────────┤\n",
       "│ batch_normalization_20          │ (\u001b[38;5;45mNone\u001b[0m, \u001b[38;5;34m32\u001b[0m)             │           \u001b[38;5;34m128\u001b[0m │\n",
       "│ (\u001b[38;5;33mBatchNormalization\u001b[0m)            │                        │               │\n",
       "├─────────────────────────────────┼────────────────────────┼───────────────┤\n",
       "│ dropout_41 (\u001b[38;5;33mDropout\u001b[0m)            │ (\u001b[38;5;45mNone\u001b[0m, \u001b[38;5;34m32\u001b[0m)             │             \u001b[38;5;34m0\u001b[0m │\n",
       "├─────────────────────────────────┼────────────────────────┼───────────────┤\n",
       "│ dense_20 (\u001b[38;5;33mDense\u001b[0m)                │ (\u001b[38;5;45mNone\u001b[0m, \u001b[38;5;34m1\u001b[0m)              │            \u001b[38;5;34m33\u001b[0m │\n",
       "└─────────────────────────────────┴────────────────────────┴───────────────┘\n"
      ]
     },
     "metadata": {},
     "output_type": "display_data"
    },
    {
     "data": {
      "text/html": [
       "<pre style=\"white-space:pre;overflow-x:auto;line-height:normal;font-family:Menlo,'DejaVu Sans Mono',consolas,'Courier New',monospace\"><span style=\"font-weight: bold\"> Total params: </span><span style=\"color: #00af00; text-decoration-color: #00af00\">1,008,737</span> (3.85 MB)\n",
       "</pre>\n"
      ],
      "text/plain": [
       "\u001b[1m Total params: \u001b[0m\u001b[38;5;34m1,008,737\u001b[0m (3.85 MB)\n"
      ]
     },
     "metadata": {},
     "output_type": "display_data"
    },
    {
     "data": {
      "text/html": [
       "<pre style=\"white-space:pre;overflow-x:auto;line-height:normal;font-family:Menlo,'DejaVu Sans Mono',consolas,'Courier New',monospace\"><span style=\"font-weight: bold\"> Trainable params: </span><span style=\"color: #00af00; text-decoration-color: #00af00\">1,008,673</span> (3.85 MB)\n",
       "</pre>\n"
      ],
      "text/plain": [
       "\u001b[1m Trainable params: \u001b[0m\u001b[38;5;34m1,008,673\u001b[0m (3.85 MB)\n"
      ]
     },
     "metadata": {},
     "output_type": "display_data"
    },
    {
     "data": {
      "text/html": [
       "<pre style=\"white-space:pre;overflow-x:auto;line-height:normal;font-family:Menlo,'DejaVu Sans Mono',consolas,'Courier New',monospace\"><span style=\"font-weight: bold\"> Non-trainable params: </span><span style=\"color: #00af00; text-decoration-color: #00af00\">64</span> (256.00 B)\n",
       "</pre>\n"
      ],
      "text/plain": [
       "\u001b[1m Non-trainable params: \u001b[0m\u001b[38;5;34m64\u001b[0m (256.00 B)\n"
      ]
     },
     "metadata": {},
     "output_type": "display_data"
    },
    {
     "name": "stdout",
     "output_type": "stream",
     "text": [
      "\n",
      "Training the neural network model...\n",
      "Epoch 1/50\n",
      "\u001b[1m40/40\u001b[0m \u001b[32m━━━━━━━━━━━━━━━━━━━━\u001b[0m\u001b[37m\u001b[0m \u001b[1m120s\u001b[0m 3s/step - accuracy: 0.4989 - loss: 0.7471 - val_accuracy: 0.5342 - val_loss: 0.6928 - learning_rate: 1.0000e-04\n",
      "Epoch 2/50\n",
      "\u001b[1m40/40\u001b[0m \u001b[32m━━━━━━━━━━━━━━━━━━━━\u001b[0m\u001b[37m\u001b[0m \u001b[1m114s\u001b[0m 3s/step - accuracy: 0.5223 - loss: 0.7249 - val_accuracy: 0.5672 - val_loss: 0.6921 - learning_rate: 1.0000e-04\n",
      "Epoch 3/50\n",
      "\u001b[1m40/40\u001b[0m \u001b[32m━━━━━━━━━━━━━━━━━━━━\u001b[0m\u001b[37m\u001b[0m \u001b[1m122s\u001b[0m 3s/step - accuracy: 0.5373 - loss: 0.7070 - val_accuracy: 0.5912 - val_loss: 0.6911 - learning_rate: 1.0000e-04\n",
      "Epoch 4/50\n",
      "\u001b[1m40/40\u001b[0m \u001b[32m━━━━━━━━━━━━━━━━━━━━\u001b[0m\u001b[37m\u001b[0m \u001b[1m136s\u001b[0m 3s/step - accuracy: 0.5640 - loss: 0.6924 - val_accuracy: 0.6074 - val_loss: 0.6897 - learning_rate: 1.0000e-04\n",
      "Epoch 5/50\n",
      "\u001b[1m40/40\u001b[0m \u001b[32m━━━━━━━━━━━━━━━━━━━━\u001b[0m\u001b[37m\u001b[0m \u001b[1m138s\u001b[0m 3s/step - accuracy: 0.5830 - loss: 0.6764 - val_accuracy: 0.6292 - val_loss: 0.6876 - learning_rate: 1.0000e-04\n",
      "Epoch 6/50\n",
      "\u001b[1m40/40\u001b[0m \u001b[32m━━━━━━━━━━━━━━━━━━━━\u001b[0m\u001b[37m\u001b[0m \u001b[1m138s\u001b[0m 3s/step - accuracy: 0.6036 - loss: 0.6622 - val_accuracy: 0.6462 - val_loss: 0.6846 - learning_rate: 1.0000e-04\n",
      "Epoch 7/50\n",
      "\u001b[1m40/40\u001b[0m \u001b[32m━━━━━━━━━━━━━━━━━━━━\u001b[0m\u001b[37m\u001b[0m \u001b[1m127s\u001b[0m 3s/step - accuracy: 0.6232 - loss: 0.6436 - val_accuracy: 0.6590 - val_loss: 0.6801 - learning_rate: 1.0000e-04\n",
      "Epoch 8/50\n",
      "\u001b[1m40/40\u001b[0m \u001b[32m━━━━━━━━━━━━━━━━━━━━\u001b[0m\u001b[37m\u001b[0m \u001b[1m129s\u001b[0m 3s/step - accuracy: 0.6439 - loss: 0.6271 - val_accuracy: 0.6634 - val_loss: 0.6734 - learning_rate: 1.0000e-04\n",
      "Epoch 9/50\n",
      "\u001b[1m40/40\u001b[0m \u001b[32m━━━━━━━━━━━━━━━━━━━━\u001b[0m\u001b[37m\u001b[0m \u001b[1m116s\u001b[0m 3s/step - accuracy: 0.6654 - loss: 0.6082 - val_accuracy: 0.6728 - val_loss: 0.6637 - learning_rate: 1.0000e-04\n",
      "Epoch 10/50\n",
      "\u001b[1m40/40\u001b[0m \u001b[32m━━━━━━━━━━━━━━━━━━━━\u001b[0m\u001b[37m\u001b[0m \u001b[1m121s\u001b[0m 3s/step - accuracy: 0.6926 - loss: 0.5837 - val_accuracy: 0.6896 - val_loss: 0.6490 - learning_rate: 1.0000e-04\n",
      "Epoch 11/50\n",
      "\u001b[1m40/40\u001b[0m \u001b[32m━━━━━━━━━━━━━━━━━━━━\u001b[0m\u001b[37m\u001b[0m \u001b[1m112s\u001b[0m 3s/step - accuracy: 0.7164 - loss: 0.5577 - val_accuracy: 0.7114 - val_loss: 0.6246 - learning_rate: 1.0000e-04\n",
      "Epoch 12/50\n",
      "\u001b[1m40/40\u001b[0m \u001b[32m━━━━━━━━━━━━━━━━━━━━\u001b[0m\u001b[37m\u001b[0m \u001b[1m121s\u001b[0m 3s/step - accuracy: 0.7434 - loss: 0.5247 - val_accuracy: 0.7444 - val_loss: 0.5782 - learning_rate: 1.0000e-04\n",
      "Epoch 13/50\n",
      "\u001b[1m40/40\u001b[0m \u001b[32m━━━━━━━━━━━━━━━━━━━━\u001b[0m\u001b[37m\u001b[0m \u001b[1m135s\u001b[0m 3s/step - accuracy: 0.7863 - loss: 0.4619 - val_accuracy: 0.6828 - val_loss: 0.5683 - learning_rate: 1.0000e-04\n",
      "Epoch 14/50\n",
      "\u001b[1m40/40\u001b[0m \u001b[32m━━━━━━━━━━━━━━━━━━━━\u001b[0m\u001b[37m\u001b[0m \u001b[1m158s\u001b[0m 4s/step - accuracy: 0.8425 - loss: 0.3743 - val_accuracy: 0.7076 - val_loss: 0.6135 - learning_rate: 1.0000e-04\n",
      "Epoch 15/50\n",
      "\u001b[1m40/40\u001b[0m \u001b[32m━━━━━━━━━━━━━━━━━━━━\u001b[0m\u001b[37m\u001b[0m \u001b[1m141s\u001b[0m 4s/step - accuracy: 0.8758 - loss: 0.3140 - val_accuracy: 0.8338 - val_loss: 0.3642 - learning_rate: 1.0000e-04\n",
      "Epoch 16/50\n",
      "\u001b[1m40/40\u001b[0m \u001b[32m━━━━━━━━━━━━━━━━━━━━\u001b[0m\u001b[37m\u001b[0m \u001b[1m153s\u001b[0m 4s/step - accuracy: 0.8860 - loss: 0.2906 - val_accuracy: 0.8640 - val_loss: 0.3224 - learning_rate: 1.0000e-04\n",
      "Epoch 17/50\n",
      "\u001b[1m40/40\u001b[0m \u001b[32m━━━━━━━━━━━━━━━━━━━━\u001b[0m\u001b[37m\u001b[0m \u001b[1m145s\u001b[0m 4s/step - accuracy: 0.9083 - loss: 0.2458 - val_accuracy: 0.8744 - val_loss: 0.3093 - learning_rate: 1.0000e-04\n",
      "Epoch 18/50\n",
      "\u001b[1m40/40\u001b[0m \u001b[32m━━━━━━━━━━━━━━━━━━━━\u001b[0m\u001b[37m\u001b[0m \u001b[1m144s\u001b[0m 4s/step - accuracy: 0.9176 - loss: 0.2290 - val_accuracy: 0.8890 - val_loss: 0.2840 - learning_rate: 1.0000e-04\n",
      "Epoch 19/50\n",
      "\u001b[1m40/40\u001b[0m \u001b[32m━━━━━━━━━━━━━━━━━━━━\u001b[0m\u001b[37m\u001b[0m \u001b[1m122s\u001b[0m 3s/step - accuracy: 0.9257 - loss: 0.2094 - val_accuracy: 0.8882 - val_loss: 0.2795 - learning_rate: 1.0000e-04\n",
      "Epoch 20/50\n",
      "\u001b[1m40/40\u001b[0m \u001b[32m━━━━━━━━━━━━━━━━━━━━\u001b[0m\u001b[37m\u001b[0m \u001b[1m152s\u001b[0m 4s/step - accuracy: 0.9333 - loss: 0.1921 - val_accuracy: 0.8922 - val_loss: 0.2737 - learning_rate: 1.0000e-04\n",
      "Epoch 21/50\n",
      "\u001b[1m40/40\u001b[0m \u001b[32m━━━━━━━━━━━━━━━━━━━━\u001b[0m\u001b[37m\u001b[0m \u001b[1m160s\u001b[0m 4s/step - accuracy: 0.9371 - loss: 0.1830 - val_accuracy: 0.8826 - val_loss: 0.2920 - learning_rate: 1.0000e-04\n",
      "Epoch 22/50\n",
      "\u001b[1m40/40\u001b[0m \u001b[32m━━━━━━━━━━━━━━━━━━━━\u001b[0m\u001b[37m\u001b[0m \u001b[1m163s\u001b[0m 4s/step - accuracy: 0.9449 - loss: 0.1664 - val_accuracy: 0.8836 - val_loss: 0.2913 - learning_rate: 1.0000e-04\n",
      "Epoch 23/50\n",
      "\u001b[1m40/40\u001b[0m \u001b[32m━━━━━━━━━━━━━━━━━━━━\u001b[0m\u001b[37m\u001b[0m \u001b[1m0s\u001b[0m 4s/step - accuracy: 0.9459 - loss: 0.1611\n",
      "Epoch 23: ReduceLROnPlateau reducing learning rate to 4.999999873689376e-05.\n",
      "\u001b[1m40/40\u001b[0m \u001b[32m━━━━━━━━━━━━━━━━━━━━\u001b[0m\u001b[37m\u001b[0m \u001b[1m153s\u001b[0m 4s/step - accuracy: 0.9459 - loss: 0.1611 - val_accuracy: 0.8924 - val_loss: 0.2736 - learning_rate: 1.0000e-04\n",
      "Epoch 24/50\n",
      "\u001b[1m40/40\u001b[0m \u001b[32m━━━━━━━━━━━━━━━━━━━━\u001b[0m\u001b[37m\u001b[0m \u001b[1m157s\u001b[0m 4s/step - accuracy: 0.9507 - loss: 0.1522 - val_accuracy: 0.8940 - val_loss: 0.2736 - learning_rate: 5.0000e-05\n",
      "Epoch 25/50\n",
      "\u001b[1m40/40\u001b[0m \u001b[32m━━━━━━━━━━━━━━━━━━━━\u001b[0m\u001b[37m\u001b[0m \u001b[1m134s\u001b[0m 3s/step - accuracy: 0.9545 - loss: 0.1430 - val_accuracy: 0.8944 - val_loss: 0.2727 - learning_rate: 5.0000e-05\n",
      "Epoch 26/50\n",
      "\u001b[1m40/40\u001b[0m \u001b[32m━━━━━━━━━━━━━━━━━━━━\u001b[0m\u001b[37m\u001b[0m \u001b[1m131s\u001b[0m 3s/step - accuracy: 0.9521 - loss: 0.1432 - val_accuracy: 0.8932 - val_loss: 0.2694 - learning_rate: 5.0000e-05\n",
      "Epoch 27/50\n",
      "\u001b[1m40/40\u001b[0m \u001b[32m━━━━━━━━━━━━━━━━━━━━\u001b[0m\u001b[37m\u001b[0m \u001b[1m112s\u001b[0m 3s/step - accuracy: 0.9568 - loss: 0.1359 - val_accuracy: 0.8876 - val_loss: 0.2853 - learning_rate: 5.0000e-05\n",
      "Epoch 28/50\n",
      "\u001b[1m40/40\u001b[0m \u001b[32m━━━━━━━━━━━━━━━━━━━━\u001b[0m\u001b[37m\u001b[0m \u001b[1m113s\u001b[0m 3s/step - accuracy: 0.9561 - loss: 0.1377 - val_accuracy: 0.8934 - val_loss: 0.2733 - learning_rate: 5.0000e-05\n",
      "Epoch 29/50\n",
      "\u001b[1m40/40\u001b[0m \u001b[32m━━━━━━━━━━━━━━━━━━━━\u001b[0m\u001b[37m\u001b[0m \u001b[1m0s\u001b[0m 3s/step - accuracy: 0.9610 - loss: 0.1317\n",
      "Epoch 29: ReduceLROnPlateau reducing learning rate to 2.499999936844688e-05.\n",
      "\u001b[1m40/40\u001b[0m \u001b[32m━━━━━━━━━━━━━━━━━━━━\u001b[0m\u001b[37m\u001b[0m \u001b[1m135s\u001b[0m 3s/step - accuracy: 0.9610 - loss: 0.1316 - val_accuracy: 0.8906 - val_loss: 0.2768 - learning_rate: 5.0000e-05\n",
      "Epoch 30/50\n",
      "\u001b[1m40/40\u001b[0m \u001b[32m━━━━━━━━━━━━━━━━━━━━\u001b[0m\u001b[37m\u001b[0m \u001b[1m111s\u001b[0m 3s/step - accuracy: 0.9615 - loss: 0.1266 - val_accuracy: 0.8944 - val_loss: 0.2750 - learning_rate: 2.5000e-05\n",
      "Epoch 31/50\n",
      "\u001b[1m40/40\u001b[0m \u001b[32m━━━━━━━━━━━━━━━━━━━━\u001b[0m\u001b[37m\u001b[0m \u001b[1m112s\u001b[0m 3s/step - accuracy: 0.9624 - loss: 0.1247 - val_accuracy: 0.8930 - val_loss: 0.2783 - learning_rate: 2.5000e-05\n",
      "Epoch 32/50\n",
      "\u001b[1m40/40\u001b[0m \u001b[32m━━━━━━━━━━━━━━━━━━━━\u001b[0m\u001b[37m\u001b[0m \u001b[1m0s\u001b[0m 3s/step - accuracy: 0.9641 - loss: 0.1191\n",
      "Epoch 32: ReduceLROnPlateau reducing learning rate to 1.249999968422344e-05.\n",
      "\u001b[1m40/40\u001b[0m \u001b[32m━━━━━━━━━━━━━━━━━━━━\u001b[0m\u001b[37m\u001b[0m \u001b[1m127s\u001b[0m 3s/step - accuracy: 0.9641 - loss: 0.1192 - val_accuracy: 0.8940 - val_loss: 0.2764 - learning_rate: 2.5000e-05\n",
      "Epoch 33/50\n",
      "\u001b[1m40/40\u001b[0m \u001b[32m━━━━━━━━━━━━━━━━━━━━\u001b[0m\u001b[37m\u001b[0m \u001b[1m123s\u001b[0m 3s/step - accuracy: 0.9648 - loss: 0.1195 - val_accuracy: 0.8948 - val_loss: 0.2749 - learning_rate: 1.2500e-05\n",
      "Epoch 34/50\n",
      "\u001b[1m40/40\u001b[0m \u001b[32m━━━━━━━━━━━━━━━━━━━━\u001b[0m\u001b[37m\u001b[0m \u001b[1m146s\u001b[0m 4s/step - accuracy: 0.9636 - loss: 0.1197 - val_accuracy: 0.8954 - val_loss: 0.2748 - learning_rate: 1.2500e-05\n",
      "Epoch 35/50\n",
      "\u001b[1m40/40\u001b[0m \u001b[32m━━━━━━━━━━━━━━━━━━━━\u001b[0m\u001b[37m\u001b[0m \u001b[1m0s\u001b[0m 4s/step - accuracy: 0.9644 - loss: 0.1184\n",
      "Epoch 35: ReduceLROnPlateau reducing learning rate to 6.24999984211172e-06.\n",
      "\u001b[1m40/40\u001b[0m \u001b[32m━━━━━━━━━━━━━━━━━━━━\u001b[0m\u001b[37m\u001b[0m \u001b[1m148s\u001b[0m 4s/step - accuracy: 0.9644 - loss: 0.1184 - val_accuracy: 0.8940 - val_loss: 0.2772 - learning_rate: 1.2500e-05\n",
      "Epoch 36/50\n",
      "\u001b[1m40/40\u001b[0m \u001b[32m━━━━━━━━━━━━━━━━━━━━\u001b[0m\u001b[37m\u001b[0m \u001b[1m144s\u001b[0m 4s/step - accuracy: 0.9675 - loss: 0.1163 - val_accuracy: 0.8952 - val_loss: 0.2765 - learning_rate: 6.2500e-06\n",
      "Epoch 37/50\n",
      "\u001b[1m40/40\u001b[0m \u001b[32m━━━━━━━━━━━━━━━━━━━━\u001b[0m\u001b[37m\u001b[0m \u001b[1m113s\u001b[0m 3s/step - accuracy: 0.9635 - loss: 0.1183 - val_accuracy: 0.8940 - val_loss: 0.2758 - learning_rate: 6.2500e-06\n",
      "Epoch 38/50\n",
      "\u001b[1m40/40\u001b[0m \u001b[32m━━━━━━━━━━━━━━━━━━━━\u001b[0m\u001b[37m\u001b[0m \u001b[1m0s\u001b[0m 3s/step - accuracy: 0.9626 - loss: 0.1197\n",
      "Epoch 38: ReduceLROnPlateau reducing learning rate to 3.12499992105586e-06.\n",
      "\u001b[1m40/40\u001b[0m \u001b[32m━━━━━━━━━━━━━━━━━━━━\u001b[0m\u001b[37m\u001b[0m \u001b[1m112s\u001b[0m 3s/step - accuracy: 0.9626 - loss: 0.1196 - val_accuracy: 0.8954 - val_loss: 0.2761 - learning_rate: 6.2500e-06\n",
      "Epoch 39/50\n",
      "\u001b[1m40/40\u001b[0m \u001b[32m━━━━━━━━━━━━━━━━━━━━\u001b[0m\u001b[37m\u001b[0m \u001b[1m114s\u001b[0m 3s/step - accuracy: 0.9655 - loss: 0.1151 - val_accuracy: 0.8938 - val_loss: 0.2757 - learning_rate: 3.1250e-06\n",
      "Epoch 40/50\n",
      "\u001b[1m40/40\u001b[0m \u001b[32m━━━━━━━━━━━━━━━━━━━━\u001b[0m\u001b[37m\u001b[0m \u001b[1m121s\u001b[0m 3s/step - accuracy: 0.9673 - loss: 0.1156 - val_accuracy: 0.8940 - val_loss: 0.2756 - learning_rate: 3.1250e-06\n",
      "Epoch 41/50\n",
      "\u001b[1m40/40\u001b[0m \u001b[32m━━━━━━━━━━━━━━━━━━━━\u001b[0m\u001b[37m\u001b[0m \u001b[1m0s\u001b[0m 3s/step - accuracy: 0.9635 - loss: 0.1193\n",
      "Epoch 41: ReduceLROnPlateau reducing learning rate to 1.56249996052793e-06.\n",
      "\u001b[1m40/40\u001b[0m \u001b[32m━━━━━━━━━━━━━━━━━━━━\u001b[0m\u001b[37m\u001b[0m \u001b[1m141s\u001b[0m 4s/step - accuracy: 0.9635 - loss: 0.1193 - val_accuracy: 0.8950 - val_loss: 0.2752 - learning_rate: 3.1250e-06\n",
      "Epoch 42/50\n",
      "\u001b[1m40/40\u001b[0m \u001b[32m━━━━━━━━━━━━━━━━━━━━\u001b[0m\u001b[37m\u001b[0m \u001b[1m146s\u001b[0m 4s/step - accuracy: 0.9648 - loss: 0.1154 - val_accuracy: 0.8946 - val_loss: 0.2750 - learning_rate: 1.5625e-06\n",
      "Epoch 43/50\n",
      "\u001b[1m40/40\u001b[0m \u001b[32m━━━━━━━━━━━━━━━━━━━━\u001b[0m\u001b[37m\u001b[0m \u001b[1m150s\u001b[0m 4s/step - accuracy: 0.9657 - loss: 0.1163 - val_accuracy: 0.8948 - val_loss: 0.2753 - learning_rate: 1.5625e-06\n",
      "Epoch 44/50\n",
      "\u001b[1m40/40\u001b[0m \u001b[32m━━━━━━━━━━━━━━━━━━━━\u001b[0m\u001b[37m\u001b[0m \u001b[1m0s\u001b[0m 3s/step - accuracy: 0.9674 - loss: 0.1132\n",
      "Epoch 44: ReduceLROnPlateau reducing learning rate to 7.81249980263965e-07.\n",
      "\u001b[1m40/40\u001b[0m \u001b[32m━━━━━━━━━━━━━━━━━━━━\u001b[0m\u001b[37m\u001b[0m \u001b[1m122s\u001b[0m 3s/step - accuracy: 0.9674 - loss: 0.1133 - val_accuracy: 0.8944 - val_loss: 0.2753 - learning_rate: 1.5625e-06\n",
      "Epoch 45/50\n",
      "\u001b[1m40/40\u001b[0m \u001b[32m━━━━━━━━━━━━━━━━━━━━\u001b[0m\u001b[37m\u001b[0m \u001b[1m133s\u001b[0m 3s/step - accuracy: 0.9651 - loss: 0.1153 - val_accuracy: 0.8944 - val_loss: 0.2753 - learning_rate: 7.8125e-07\n",
      "Epoch 46/50\n",
      "\u001b[1m40/40\u001b[0m \u001b[32m━━━━━━━━━━━━━━━━━━━━\u001b[0m\u001b[37m\u001b[0m \u001b[1m108s\u001b[0m 3s/step - accuracy: 0.9652 - loss: 0.1178 - val_accuracy: 0.8946 - val_loss: 0.2753 - learning_rate: 7.8125e-07\n",
      "Epoch 47/50\n",
      "\u001b[1m40/40\u001b[0m \u001b[32m━━━━━━━━━━━━━━━━━━━━\u001b[0m\u001b[37m\u001b[0m \u001b[1m0s\u001b[0m 3s/step - accuracy: 0.9647 - loss: 0.1178\n",
      "Epoch 47: ReduceLROnPlateau reducing learning rate to 3.906249901319825e-07.\n",
      "\u001b[1m40/40\u001b[0m \u001b[32m━━━━━━━━━━━━━━━━━━━━\u001b[0m\u001b[37m\u001b[0m \u001b[1m111s\u001b[0m 3s/step - accuracy: 0.9648 - loss: 0.1178 - val_accuracy: 0.8948 - val_loss: 0.2754 - learning_rate: 7.8125e-07\n",
      "Epoch 48/50\n",
      "\u001b[1m40/40\u001b[0m \u001b[32m━━━━━━━━━━━━━━━━━━━━\u001b[0m\u001b[37m\u001b[0m \u001b[1m119s\u001b[0m 3s/step - accuracy: 0.9648 - loss: 0.1190 - val_accuracy: 0.8950 - val_loss: 0.2754 - learning_rate: 3.9062e-07\n",
      "Epoch 49/50\n",
      "\u001b[1m40/40\u001b[0m \u001b[32m━━━━━━━━━━━━━━━━━━━━\u001b[0m\u001b[37m\u001b[0m \u001b[1m118s\u001b[0m 3s/step - accuracy: 0.9665 - loss: 0.1117 - val_accuracy: 0.8948 - val_loss: 0.2754 - learning_rate: 3.9062e-07\n",
      "Epoch 50/50\n",
      "\u001b[1m40/40\u001b[0m \u001b[32m━━━━━━━━━━━━━━━━━━━━\u001b[0m\u001b[37m\u001b[0m \u001b[1m0s\u001b[0m 3s/step - accuracy: 0.9665 - loss: 0.1144\n",
      "Epoch 50: ReduceLROnPlateau reducing learning rate to 1.9531249506599124e-07.\n",
      "\u001b[1m40/40\u001b[0m \u001b[32m━━━━━━━━━━━━━━━━━━━━\u001b[0m\u001b[37m\u001b[0m \u001b[1m143s\u001b[0m 4s/step - accuracy: 0.9665 - loss: 0.1144 - val_accuracy: 0.8948 - val_loss: 0.2753 - learning_rate: 3.9062e-07\n"
     ]
    },
    {
     "data": {
      "image/png": "[encoded data removed]",
      "text/plain": [
       "<Figure size 1000x600 with 1 Axes>"
      ]
     },
     "metadata": {},
     "output_type": "display_data"
    },
    {
     "data": {
      "image/png": "[encoded data removed]",
      "text/plain": [
       "<Figure size 1000x600 with 1 Axes>"
      ]
     },
     "metadata": {},
     "output_type": "display_data"
    },
    {
     "name": "stdout",
     "output_type": "stream",
     "text": [
      "\u001b[1m782/782\u001b[0m \u001b[32m━━━━━━━━━━━━━━━━━━━━\u001b[0m\u001b[37m\u001b[0m \u001b[1m54s\u001b[0m 69ms/step\n",
      "\n",
      "Classification Report:\n",
      "              precision    recall  f1-score   support\n",
      "\n",
      "    Negative       0.87      0.89      0.88     12500\n",
      "    Positive       0.88      0.86      0.87     12500\n",
      "\n",
      "    accuracy                           0.87     25000\n",
      "   macro avg       0.87      0.87      0.87     25000\n",
      "weighted avg       0.87      0.87      0.87     25000\n",
      "\n"
     ]
    }
   ],
   "source": [
    "if __name__ == \"__main__\":\n",
    "    main()"
   ]
  }
 ],
 "metadata": {
  "kernelspec": {
   "display_name": "Python 3",
   "language": "python",
   "name": "python3"
  },
  "language_info": {
   "codemirror_mode": {
    "name": "ipython",
    "version": 3
   },
   "file_extension": ".py",
   "mimetype": "text/x-python",
   "name": "python",
   "nbconvert_exporter": "python",
   "pygments_lexer": "ipython3",
   "version": "3.12.5"
  }
 },
 "nbformat": 4,
 "nbformat_minor": 2
}
